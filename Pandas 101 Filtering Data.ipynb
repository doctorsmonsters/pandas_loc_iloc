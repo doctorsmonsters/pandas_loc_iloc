{
 "cells": [
  {
   "cell_type": "markdown",
   "metadata": {},
   "source": [
    "In part 2, we will learn how to select data from a dataFrame. Let's download stocks data from Yahoo Finance. This is historic data of S&P 500 stocks. (https://finance.yahoo.com/quote/%5EGSPC/history?p=%5EGSPC). I renamed the file to stocks.csv. Let's start by importing pandas and load data from the CSV file."
   ]
  },
  {
   "cell_type": "code",
   "execution_count": 1,
   "metadata": {},
   "outputs": [],
   "source": [
    "import pandas as pd\n",
    "data=pd.read_csv('stocks.csv')"
   ]
  },
  {
   "cell_type": "markdown",
   "metadata": {},
   "source": [
    "Let's look at the columns we have in our DataFrame."
   ]
  },
  {
   "cell_type": "code",
   "execution_count": 2,
   "metadata": {},
   "outputs": [
    {
     "data": {
      "text/plain": [
       "Index(['Date', 'Open', 'High', 'Low', 'Close', 'Adj Close', 'Volume'], dtype='object')"
      ]
     },
     "execution_count": 2,
     "metadata": {},
     "output_type": "execute_result"
    }
   ],
   "source": [
    "data.columns"
   ]
  },
  {
   "cell_type": "markdown",
   "metadata": {},
   "source": [
    "Using the 'loc' property. loc can be used to retrieve data based on labels. By default, the index column of the DataFrame is considered a label. So in our data, if we want to retrieve data in all columns in row 3, we will use:"
   ]
  },
  {
   "cell_type": "code",
   "execution_count": 3,
   "metadata": {},
   "outputs": [
    {
     "data": {
      "text/plain": [
       "Date         2020-01-15\n",
       "Open            3282.27\n",
       "High            3298.66\n",
       "Low             3280.69\n",
       "Close           3289.29\n",
       "Adj Close       3289.29\n",
       "Volume       3716840000\n",
       "Name: 3, dtype: object"
      ]
     },
     "execution_count": 3,
     "metadata": {},
     "output_type": "execute_result"
    }
   ],
   "source": [
    "data.loc[3]"
   ]
  },
  {
   "cell_type": "markdown",
   "metadata": {},
   "source": [
    "However, for the ease of readability, it might be best to assign more reasonable labels. So in our data, since it can be considered time series data, we can assign the Date columns as the index. "
   ]
  },
  {
   "cell_type": "code",
   "execution_count": 4,
   "metadata": {},
   "outputs": [],
   "source": [
    "data.index=data['Date']"
   ]
  },
  {
   "cell_type": "markdown",
   "metadata": {},
   "source": [
    "Now that we are using dates as the labels, it will be very easy to retrieve data. Say we want to look at the data from the first of January."
   ]
  },
  {
   "cell_type": "code",
   "execution_count": 5,
   "metadata": {},
   "outputs": [
    {
     "data": {
      "text/plain": [
       "Date         2021-01-04\n",
       "Open            3764.61\n",
       "High            3769.99\n",
       "Low             3662.71\n",
       "Close           3700.65\n",
       "Adj Close       3700.65\n",
       "Volume       5006680000\n",
       "Name: 2021-01-04, dtype: object"
      ]
     },
     "execution_count": 5,
     "metadata": {},
     "output_type": "execute_result"
    }
   ],
   "source": [
    "data.loc['2021-01-04']"
   ]
  },
  {
   "cell_type": "markdown",
   "metadata": {},
   "source": [
    "Now lets say we are interested in a specific column, say the closing price. We can do that by passing the column name."
   ]
  },
  {
   "cell_type": "code",
   "execution_count": 6,
   "metadata": {},
   "outputs": [
    {
     "data": {
      "text/plain": [
       "3700.649902"
      ]
     },
     "execution_count": 6,
     "metadata": {},
     "output_type": "execute_result"
    }
   ],
   "source": [
    "data.loc['2021-01-04', 'Close']"
   ]
  },
  {
   "cell_type": "markdown",
   "metadata": {},
   "source": [
    "To retrieve data from more than one column, you pass on the names of the columns as a list. Similarly, if you need data from more than one rows, you can pass the labels as a list too."
   ]
  },
  {
   "cell_type": "code",
   "execution_count": 7,
   "metadata": {},
   "outputs": [
    {
     "name": "stdout",
     "output_type": "stream",
     "text": [
      "Open     3764.61\n",
      "Close    3700.65\n",
      "Name: 2021-01-04, dtype: object\n",
      "                   Open        Close\n",
      "Date                                \n",
      "2021-01-04  3764.610107  3700.649902\n",
      "2021-01-05  3698.020020  3726.860107\n"
     ]
    }
   ],
   "source": [
    "# Open and close for Janurary 4.\n",
    "print(data.loc['2021-01-04', ['Open', 'Close']])\n",
    "       \n",
    "# Open and close for Janurary 4 and 5.\n",
    "print(data.loc[['2021-01-04','2021-01-05'], ['Open','Close']])"
   ]
  },
  {
   "cell_type": "markdown",
   "metadata": {},
   "source": [
    "Now if you want to view certain columns for the whole DataFrame, you can do it as follow:"
   ]
  },
  {
   "cell_type": "code",
   "execution_count": 8,
   "metadata": {},
   "outputs": [
    {
     "name": "stdout",
     "output_type": "stream",
     "text": [
      "                   Open        Close\n",
      "Date                                \n",
      "2020-01-10  3281.810059  3265.350098\n",
      "2020-01-13  3271.129883  3288.129883\n",
      "2020-01-14  3285.350098  3283.149902\n",
      "2020-01-15  3282.270020  3289.290039\n",
      "2020-01-16  3302.969971  3316.810059\n",
      "...                 ...          ...\n",
      "2021-01-04  3764.610107  3700.649902\n",
      "2021-01-05  3698.020020  3726.860107\n",
      "2021-01-06  3712.199951  3748.139893\n",
      "2021-01-07  3764.709961  3803.790039\n",
      "2021-01-08  3815.050049  3824.679932\n",
      "\n",
      "[252 rows x 2 columns]\n"
     ]
    }
   ],
   "source": [
    "\n",
    "print(data.loc[:, ['Open','Close']])"
   ]
  },
  {
   "cell_type": "markdown",
   "metadata": {},
   "source": [
    "iloc enables you to retrieve data based on imaginary numeric index. Notice that the numeric index is imaginary, means that it is the actual index column. For example, in our data, the Date column was assigned as an index. But using iloc, you can retrieve data based on index numbers starting from 0. So for example, if you want to retrieve the row at index 0, you can do it as follow:"
   ]
  },
  {
   "cell_type": "code",
   "execution_count": 9,
   "metadata": {},
   "outputs": [
    {
     "data": {
      "text/plain": [
       "Date         2020-01-10\n",
       "Open            3281.81\n",
       "High            3282.99\n",
       "Low             3260.86\n",
       "Close           3265.35\n",
       "Adj Close       3265.35\n",
       "Volume       3212970000\n",
       "Name: 2020-01-10, dtype: object"
      ]
     },
     "execution_count": 9,
     "metadata": {},
     "output_type": "execute_result"
    }
   ],
   "source": [
    "data.iloc[0]"
   ]
  },
  {
   "cell_type": "markdown",
   "metadata": {},
   "source": [
    "In a similar fasion, you can use iloc to retriev data from a specific row and column by providing indices for both. Say we want to retrieve data from the 2nd row and 3rd column."
   ]
  },
  {
   "cell_type": "code",
   "execution_count": 10,
   "metadata": {},
   "outputs": [
    {
     "data": {
      "text/plain": [
       "3277.189941"
      ]
     },
     "execution_count": 10,
     "metadata": {},
     "output_type": "execute_result"
    }
   ],
   "source": [
    "data.iloc[2,3]"
   ]
  },
  {
   "cell_type": "markdown",
   "metadata": {},
   "source": [
    "One may wonder what could be the use of this. In our data, imaging you want to retrieve the last 3 rows. You can do that using iloc."
   ]
  },
  {
   "cell_type": "code",
   "execution_count": 11,
   "metadata": {},
   "outputs": [
    {
     "name": "stdout",
     "output_type": "stream",
     "text": [
      "Date         2021-01-08\n",
      "Open            3815.05\n",
      "High            3826.69\n",
      "Low              3783.6\n",
      "Close           3824.68\n",
      "Adj Close       3824.68\n",
      "Volume       4764180000\n",
      "Name: 2021-01-08, dtype: object\n"
     ]
    }
   ],
   "source": [
    "print(data.iloc[-1])"
   ]
  },
  {
   "cell_type": "markdown",
   "metadata": {},
   "source": [
    "So just like a list, you can use indices to retrieve date or range  of data from the begining or end, as well as use steps. For example, you want to pick every 3rd row, you can do so."
   ]
  },
  {
   "cell_type": "code",
   "execution_count": 12,
   "metadata": {},
   "outputs": [
    {
     "data": {
      "text/html": [
       "<div>\n",
       "<style scoped>\n",
       "    .dataframe tbody tr th:only-of-type {\n",
       "        vertical-align: middle;\n",
       "    }\n",
       "\n",
       "    .dataframe tbody tr th {\n",
       "        vertical-align: top;\n",
       "    }\n",
       "\n",
       "    .dataframe thead th {\n",
       "        text-align: right;\n",
       "    }\n",
       "</style>\n",
       "<table border=\"1\" class=\"dataframe\">\n",
       "  <thead>\n",
       "    <tr style=\"text-align: right;\">\n",
       "      <th></th>\n",
       "      <th>Date</th>\n",
       "      <th>Open</th>\n",
       "      <th>High</th>\n",
       "      <th>Low</th>\n",
       "      <th>Close</th>\n",
       "      <th>Adj Close</th>\n",
       "      <th>Volume</th>\n",
       "    </tr>\n",
       "    <tr>\n",
       "      <th>Date</th>\n",
       "      <th></th>\n",
       "      <th></th>\n",
       "      <th></th>\n",
       "      <th></th>\n",
       "      <th></th>\n",
       "      <th></th>\n",
       "      <th></th>\n",
       "    </tr>\n",
       "  </thead>\n",
       "  <tbody>\n",
       "    <tr>\n",
       "      <th>2020-01-10</th>\n",
       "      <td>2020-01-10</td>\n",
       "      <td>3281.810059</td>\n",
       "      <td>3282.989990</td>\n",
       "      <td>3260.860107</td>\n",
       "      <td>3265.350098</td>\n",
       "      <td>3265.350098</td>\n",
       "      <td>3212970000</td>\n",
       "    </tr>\n",
       "    <tr>\n",
       "      <th>2020-01-15</th>\n",
       "      <td>2020-01-15</td>\n",
       "      <td>3282.270020</td>\n",
       "      <td>3298.659912</td>\n",
       "      <td>3280.689941</td>\n",
       "      <td>3289.290039</td>\n",
       "      <td>3289.290039</td>\n",
       "      <td>3716840000</td>\n",
       "    </tr>\n",
       "    <tr>\n",
       "      <th>2020-01-21</th>\n",
       "      <td>2020-01-21</td>\n",
       "      <td>3321.030029</td>\n",
       "      <td>3329.790039</td>\n",
       "      <td>3316.610107</td>\n",
       "      <td>3320.790039</td>\n",
       "      <td>3320.790039</td>\n",
       "      <td>4105340000</td>\n",
       "    </tr>\n",
       "    <tr>\n",
       "      <th>2020-01-24</th>\n",
       "      <td>2020-01-24</td>\n",
       "      <td>3333.100098</td>\n",
       "      <td>3333.179932</td>\n",
       "      <td>3281.530029</td>\n",
       "      <td>3295.469971</td>\n",
       "      <td>3295.469971</td>\n",
       "      <td>3707130000</td>\n",
       "    </tr>\n",
       "    <tr>\n",
       "      <th>2020-01-29</th>\n",
       "      <td>2020-01-29</td>\n",
       "      <td>3289.459961</td>\n",
       "      <td>3293.469971</td>\n",
       "      <td>3271.889893</td>\n",
       "      <td>3273.399902</td>\n",
       "      <td>3273.399902</td>\n",
       "      <td>3584500000</td>\n",
       "    </tr>\n",
       "    <tr>\n",
       "      <th>...</th>\n",
       "      <td>...</td>\n",
       "      <td>...</td>\n",
       "      <td>...</td>\n",
       "      <td>...</td>\n",
       "      <td>...</td>\n",
       "      <td>...</td>\n",
       "      <td>...</td>\n",
       "    </tr>\n",
       "    <tr>\n",
       "      <th>2020-12-17</th>\n",
       "      <td>2020-12-17</td>\n",
       "      <td>3713.649902</td>\n",
       "      <td>3725.120117</td>\n",
       "      <td>3710.870117</td>\n",
       "      <td>3722.479980</td>\n",
       "      <td>3722.479980</td>\n",
       "      <td>4184930000</td>\n",
       "    </tr>\n",
       "    <tr>\n",
       "      <th>2020-12-22</th>\n",
       "      <td>2020-12-22</td>\n",
       "      <td>3698.080078</td>\n",
       "      <td>3698.260010</td>\n",
       "      <td>3676.159912</td>\n",
       "      <td>3687.260010</td>\n",
       "      <td>3687.260010</td>\n",
       "      <td>4023940000</td>\n",
       "    </tr>\n",
       "    <tr>\n",
       "      <th>2020-12-28</th>\n",
       "      <td>2020-12-28</td>\n",
       "      <td>3723.030029</td>\n",
       "      <td>3740.510010</td>\n",
       "      <td>3723.030029</td>\n",
       "      <td>3735.360107</td>\n",
       "      <td>3735.360107</td>\n",
       "      <td>3527460000</td>\n",
       "    </tr>\n",
       "    <tr>\n",
       "      <th>2020-12-31</th>\n",
       "      <td>2020-12-31</td>\n",
       "      <td>3733.270020</td>\n",
       "      <td>3760.199951</td>\n",
       "      <td>3726.879883</td>\n",
       "      <td>3756.070068</td>\n",
       "      <td>3756.070068</td>\n",
       "      <td>3172510000</td>\n",
       "    </tr>\n",
       "    <tr>\n",
       "      <th>2021-01-06</th>\n",
       "      <td>2021-01-06</td>\n",
       "      <td>3712.199951</td>\n",
       "      <td>3783.040039</td>\n",
       "      <td>3705.340088</td>\n",
       "      <td>3748.139893</td>\n",
       "      <td>3748.139893</td>\n",
       "      <td>6049970000</td>\n",
       "    </tr>\n",
       "  </tbody>\n",
       "</table>\n",
       "<p>84 rows × 7 columns</p>\n",
       "</div>"
      ],
      "text/plain": [
       "                  Date         Open         High          Low        Close  \\\n",
       "Date                                                                         \n",
       "2020-01-10  2020-01-10  3281.810059  3282.989990  3260.860107  3265.350098   \n",
       "2020-01-15  2020-01-15  3282.270020  3298.659912  3280.689941  3289.290039   \n",
       "2020-01-21  2020-01-21  3321.030029  3329.790039  3316.610107  3320.790039   \n",
       "2020-01-24  2020-01-24  3333.100098  3333.179932  3281.530029  3295.469971   \n",
       "2020-01-29  2020-01-29  3289.459961  3293.469971  3271.889893  3273.399902   \n",
       "...                ...          ...          ...          ...          ...   \n",
       "2020-12-17  2020-12-17  3713.649902  3725.120117  3710.870117  3722.479980   \n",
       "2020-12-22  2020-12-22  3698.080078  3698.260010  3676.159912  3687.260010   \n",
       "2020-12-28  2020-12-28  3723.030029  3740.510010  3723.030029  3735.360107   \n",
       "2020-12-31  2020-12-31  3733.270020  3760.199951  3726.879883  3756.070068   \n",
       "2021-01-06  2021-01-06  3712.199951  3783.040039  3705.340088  3748.139893   \n",
       "\n",
       "              Adj Close      Volume  \n",
       "Date                                 \n",
       "2020-01-10  3265.350098  3212970000  \n",
       "2020-01-15  3289.290039  3716840000  \n",
       "2020-01-21  3320.790039  4105340000  \n",
       "2020-01-24  3295.469971  3707130000  \n",
       "2020-01-29  3273.399902  3584500000  \n",
       "...                 ...         ...  \n",
       "2020-12-17  3722.479980  4184930000  \n",
       "2020-12-22  3687.260010  4023940000  \n",
       "2020-12-28  3735.360107  3527460000  \n",
       "2020-12-31  3756.070068  3172510000  \n",
       "2021-01-06  3748.139893  6049970000  \n",
       "\n",
       "[84 rows x 7 columns]"
      ]
     },
     "execution_count": 12,
     "metadata": {},
     "output_type": "execute_result"
    }
   ],
   "source": [
    "data.iloc[::3]"
   ]
  },
  {
   "cell_type": "markdown",
   "metadata": {},
   "source": [
    "Using iloc, we can actually set the value of cells. For example, in our  data, let's say we want to set the Volume to 0 for every other row."
   ]
  },
  {
   "cell_type": "code",
   "execution_count": 13,
   "metadata": {},
   "outputs": [],
   "source": [
    "data.iloc[::2,6]=0"
   ]
  },
  {
   "cell_type": "code",
   "execution_count": 14,
   "metadata": {},
   "outputs": [
    {
     "data": {
      "text/html": [
       "<div>\n",
       "<style scoped>\n",
       "    .dataframe tbody tr th:only-of-type {\n",
       "        vertical-align: middle;\n",
       "    }\n",
       "\n",
       "    .dataframe tbody tr th {\n",
       "        vertical-align: top;\n",
       "    }\n",
       "\n",
       "    .dataframe thead th {\n",
       "        text-align: right;\n",
       "    }\n",
       "</style>\n",
       "<table border=\"1\" class=\"dataframe\">\n",
       "  <thead>\n",
       "    <tr style=\"text-align: right;\">\n",
       "      <th></th>\n",
       "      <th>Date</th>\n",
       "      <th>Open</th>\n",
       "      <th>High</th>\n",
       "      <th>Low</th>\n",
       "      <th>Close</th>\n",
       "      <th>Adj Close</th>\n",
       "      <th>Volume</th>\n",
       "    </tr>\n",
       "    <tr>\n",
       "      <th>Date</th>\n",
       "      <th></th>\n",
       "      <th></th>\n",
       "      <th></th>\n",
       "      <th></th>\n",
       "      <th></th>\n",
       "      <th></th>\n",
       "      <th></th>\n",
       "    </tr>\n",
       "  </thead>\n",
       "  <tbody>\n",
       "    <tr>\n",
       "      <th>2020-01-10</th>\n",
       "      <td>2020-01-10</td>\n",
       "      <td>3281.810059</td>\n",
       "      <td>3282.989990</td>\n",
       "      <td>3260.860107</td>\n",
       "      <td>3265.350098</td>\n",
       "      <td>3265.350098</td>\n",
       "      <td>0</td>\n",
       "    </tr>\n",
       "    <tr>\n",
       "      <th>2020-01-13</th>\n",
       "      <td>2020-01-13</td>\n",
       "      <td>3271.129883</td>\n",
       "      <td>3288.129883</td>\n",
       "      <td>3268.429932</td>\n",
       "      <td>3288.129883</td>\n",
       "      <td>3288.129883</td>\n",
       "      <td>3456380000</td>\n",
       "    </tr>\n",
       "    <tr>\n",
       "      <th>2020-01-14</th>\n",
       "      <td>2020-01-14</td>\n",
       "      <td>3285.350098</td>\n",
       "      <td>3294.250000</td>\n",
       "      <td>3277.189941</td>\n",
       "      <td>3283.149902</td>\n",
       "      <td>3283.149902</td>\n",
       "      <td>0</td>\n",
       "    </tr>\n",
       "    <tr>\n",
       "      <th>2020-01-15</th>\n",
       "      <td>2020-01-15</td>\n",
       "      <td>3282.270020</td>\n",
       "      <td>3298.659912</td>\n",
       "      <td>3280.689941</td>\n",
       "      <td>3289.290039</td>\n",
       "      <td>3289.290039</td>\n",
       "      <td>3716840000</td>\n",
       "    </tr>\n",
       "    <tr>\n",
       "      <th>2020-01-16</th>\n",
       "      <td>2020-01-16</td>\n",
       "      <td>3302.969971</td>\n",
       "      <td>3317.110107</td>\n",
       "      <td>3302.820068</td>\n",
       "      <td>3316.810059</td>\n",
       "      <td>3316.810059</td>\n",
       "      <td>0</td>\n",
       "    </tr>\n",
       "    <tr>\n",
       "      <th>...</th>\n",
       "      <td>...</td>\n",
       "      <td>...</td>\n",
       "      <td>...</td>\n",
       "      <td>...</td>\n",
       "      <td>...</td>\n",
       "      <td>...</td>\n",
       "      <td>...</td>\n",
       "    </tr>\n",
       "    <tr>\n",
       "      <th>2021-01-04</th>\n",
       "      <td>2021-01-04</td>\n",
       "      <td>3764.610107</td>\n",
       "      <td>3769.989990</td>\n",
       "      <td>3662.709961</td>\n",
       "      <td>3700.649902</td>\n",
       "      <td>3700.649902</td>\n",
       "      <td>5006680000</td>\n",
       "    </tr>\n",
       "    <tr>\n",
       "      <th>2021-01-05</th>\n",
       "      <td>2021-01-05</td>\n",
       "      <td>3698.020020</td>\n",
       "      <td>3737.830078</td>\n",
       "      <td>3695.070068</td>\n",
       "      <td>3726.860107</td>\n",
       "      <td>3726.860107</td>\n",
       "      <td>0</td>\n",
       "    </tr>\n",
       "    <tr>\n",
       "      <th>2021-01-06</th>\n",
       "      <td>2021-01-06</td>\n",
       "      <td>3712.199951</td>\n",
       "      <td>3783.040039</td>\n",
       "      <td>3705.340088</td>\n",
       "      <td>3748.139893</td>\n",
       "      <td>3748.139893</td>\n",
       "      <td>6049970000</td>\n",
       "    </tr>\n",
       "    <tr>\n",
       "      <th>2021-01-07</th>\n",
       "      <td>2021-01-07</td>\n",
       "      <td>3764.709961</td>\n",
       "      <td>3811.550049</td>\n",
       "      <td>3764.709961</td>\n",
       "      <td>3803.790039</td>\n",
       "      <td>3803.790039</td>\n",
       "      <td>0</td>\n",
       "    </tr>\n",
       "    <tr>\n",
       "      <th>2021-01-08</th>\n",
       "      <td>2021-01-08</td>\n",
       "      <td>3815.050049</td>\n",
       "      <td>3826.689941</td>\n",
       "      <td>3783.600098</td>\n",
       "      <td>3824.679932</td>\n",
       "      <td>3824.679932</td>\n",
       "      <td>4764180000</td>\n",
       "    </tr>\n",
       "  </tbody>\n",
       "</table>\n",
       "<p>252 rows × 7 columns</p>\n",
       "</div>"
      ],
      "text/plain": [
       "                  Date         Open         High          Low        Close  \\\n",
       "Date                                                                         \n",
       "2020-01-10  2020-01-10  3281.810059  3282.989990  3260.860107  3265.350098   \n",
       "2020-01-13  2020-01-13  3271.129883  3288.129883  3268.429932  3288.129883   \n",
       "2020-01-14  2020-01-14  3285.350098  3294.250000  3277.189941  3283.149902   \n",
       "2020-01-15  2020-01-15  3282.270020  3298.659912  3280.689941  3289.290039   \n",
       "2020-01-16  2020-01-16  3302.969971  3317.110107  3302.820068  3316.810059   \n",
       "...                ...          ...          ...          ...          ...   \n",
       "2021-01-04  2021-01-04  3764.610107  3769.989990  3662.709961  3700.649902   \n",
       "2021-01-05  2021-01-05  3698.020020  3737.830078  3695.070068  3726.860107   \n",
       "2021-01-06  2021-01-06  3712.199951  3783.040039  3705.340088  3748.139893   \n",
       "2021-01-07  2021-01-07  3764.709961  3811.550049  3764.709961  3803.790039   \n",
       "2021-01-08  2021-01-08  3815.050049  3826.689941  3783.600098  3824.679932   \n",
       "\n",
       "              Adj Close      Volume  \n",
       "Date                                 \n",
       "2020-01-10  3265.350098           0  \n",
       "2020-01-13  3288.129883  3456380000  \n",
       "2020-01-14  3283.149902           0  \n",
       "2020-01-15  3289.290039  3716840000  \n",
       "2020-01-16  3316.810059           0  \n",
       "...                 ...         ...  \n",
       "2021-01-04  3700.649902  5006680000  \n",
       "2021-01-05  3726.860107           0  \n",
       "2021-01-06  3748.139893  6049970000  \n",
       "2021-01-07  3803.790039           0  \n",
       "2021-01-08  3824.679932  4764180000  \n",
       "\n",
       "[252 rows x 7 columns]"
      ]
     },
     "execution_count": 14,
     "metadata": {},
     "output_type": "execute_result"
    }
   ],
   "source": [
    "data"
   ]
  },
  {
   "cell_type": "markdown",
   "metadata": {},
   "source": [
    "Selecting data connditionally\n",
    "Pandas also provide us to pick and drop rows conditionally. For example, we want to display data only for dates on which the closing price was above the mean closing price. To do so, first we define the condition, assign it to an object and then pass that  object to the loc property."
   ]
  },
  {
   "cell_type": "code",
   "execution_count": 15,
   "metadata": {},
   "outputs": [
    {
     "data": {
      "text/html": [
       "<div>\n",
       "<style scoped>\n",
       "    .dataframe tbody tr th:only-of-type {\n",
       "        vertical-align: middle;\n",
       "    }\n",
       "\n",
       "    .dataframe tbody tr th {\n",
       "        vertical-align: top;\n",
       "    }\n",
       "\n",
       "    .dataframe thead th {\n",
       "        text-align: right;\n",
       "    }\n",
       "</style>\n",
       "<table border=\"1\" class=\"dataframe\">\n",
       "  <thead>\n",
       "    <tr style=\"text-align: right;\">\n",
       "      <th></th>\n",
       "      <th>Date</th>\n",
       "      <th>Open</th>\n",
       "      <th>High</th>\n",
       "      <th>Low</th>\n",
       "      <th>Close</th>\n",
       "      <th>Adj Close</th>\n",
       "      <th>Volume</th>\n",
       "    </tr>\n",
       "    <tr>\n",
       "      <th>Date</th>\n",
       "      <th></th>\n",
       "      <th></th>\n",
       "      <th></th>\n",
       "      <th></th>\n",
       "      <th></th>\n",
       "      <th></th>\n",
       "      <th></th>\n",
       "    </tr>\n",
       "  </thead>\n",
       "  <tbody>\n",
       "    <tr>\n",
       "      <th>2020-01-10</th>\n",
       "      <td>2020-01-10</td>\n",
       "      <td>3281.810059</td>\n",
       "      <td>3282.989990</td>\n",
       "      <td>3260.860107</td>\n",
       "      <td>3265.350098</td>\n",
       "      <td>3265.350098</td>\n",
       "      <td>0</td>\n",
       "    </tr>\n",
       "    <tr>\n",
       "      <th>2020-01-13</th>\n",
       "      <td>2020-01-13</td>\n",
       "      <td>3271.129883</td>\n",
       "      <td>3288.129883</td>\n",
       "      <td>3268.429932</td>\n",
       "      <td>3288.129883</td>\n",
       "      <td>3288.129883</td>\n",
       "      <td>3456380000</td>\n",
       "    </tr>\n",
       "    <tr>\n",
       "      <th>2020-01-14</th>\n",
       "      <td>2020-01-14</td>\n",
       "      <td>3285.350098</td>\n",
       "      <td>3294.250000</td>\n",
       "      <td>3277.189941</td>\n",
       "      <td>3283.149902</td>\n",
       "      <td>3283.149902</td>\n",
       "      <td>0</td>\n",
       "    </tr>\n",
       "    <tr>\n",
       "      <th>2020-01-15</th>\n",
       "      <td>2020-01-15</td>\n",
       "      <td>3282.270020</td>\n",
       "      <td>3298.659912</td>\n",
       "      <td>3280.689941</td>\n",
       "      <td>3289.290039</td>\n",
       "      <td>3289.290039</td>\n",
       "      <td>3716840000</td>\n",
       "    </tr>\n",
       "    <tr>\n",
       "      <th>2020-01-16</th>\n",
       "      <td>2020-01-16</td>\n",
       "      <td>3302.969971</td>\n",
       "      <td>3317.110107</td>\n",
       "      <td>3302.820068</td>\n",
       "      <td>3316.810059</td>\n",
       "      <td>3316.810059</td>\n",
       "      <td>0</td>\n",
       "    </tr>\n",
       "    <tr>\n",
       "      <th>...</th>\n",
       "      <td>...</td>\n",
       "      <td>...</td>\n",
       "      <td>...</td>\n",
       "      <td>...</td>\n",
       "      <td>...</td>\n",
       "      <td>...</td>\n",
       "      <td>...</td>\n",
       "    </tr>\n",
       "    <tr>\n",
       "      <th>2021-01-04</th>\n",
       "      <td>2021-01-04</td>\n",
       "      <td>3764.610107</td>\n",
       "      <td>3769.989990</td>\n",
       "      <td>3662.709961</td>\n",
       "      <td>3700.649902</td>\n",
       "      <td>3700.649902</td>\n",
       "      <td>5006680000</td>\n",
       "    </tr>\n",
       "    <tr>\n",
       "      <th>2021-01-05</th>\n",
       "      <td>2021-01-05</td>\n",
       "      <td>3698.020020</td>\n",
       "      <td>3737.830078</td>\n",
       "      <td>3695.070068</td>\n",
       "      <td>3726.860107</td>\n",
       "      <td>3726.860107</td>\n",
       "      <td>0</td>\n",
       "    </tr>\n",
       "    <tr>\n",
       "      <th>2021-01-06</th>\n",
       "      <td>2021-01-06</td>\n",
       "      <td>3712.199951</td>\n",
       "      <td>3783.040039</td>\n",
       "      <td>3705.340088</td>\n",
       "      <td>3748.139893</td>\n",
       "      <td>3748.139893</td>\n",
       "      <td>6049970000</td>\n",
       "    </tr>\n",
       "    <tr>\n",
       "      <th>2021-01-07</th>\n",
       "      <td>2021-01-07</td>\n",
       "      <td>3764.709961</td>\n",
       "      <td>3811.550049</td>\n",
       "      <td>3764.709961</td>\n",
       "      <td>3803.790039</td>\n",
       "      <td>3803.790039</td>\n",
       "      <td>0</td>\n",
       "    </tr>\n",
       "    <tr>\n",
       "      <th>2021-01-08</th>\n",
       "      <td>2021-01-08</td>\n",
       "      <td>3815.050049</td>\n",
       "      <td>3826.689941</td>\n",
       "      <td>3783.600098</td>\n",
       "      <td>3824.679932</td>\n",
       "      <td>3824.679932</td>\n",
       "      <td>4764180000</td>\n",
       "    </tr>\n",
       "  </tbody>\n",
       "</table>\n",
       "<p>148 rows × 7 columns</p>\n",
       "</div>"
      ],
      "text/plain": [
       "                  Date         Open         High          Low        Close  \\\n",
       "Date                                                                         \n",
       "2020-01-10  2020-01-10  3281.810059  3282.989990  3260.860107  3265.350098   \n",
       "2020-01-13  2020-01-13  3271.129883  3288.129883  3268.429932  3288.129883   \n",
       "2020-01-14  2020-01-14  3285.350098  3294.250000  3277.189941  3283.149902   \n",
       "2020-01-15  2020-01-15  3282.270020  3298.659912  3280.689941  3289.290039   \n",
       "2020-01-16  2020-01-16  3302.969971  3317.110107  3302.820068  3316.810059   \n",
       "...                ...          ...          ...          ...          ...   \n",
       "2021-01-04  2021-01-04  3764.610107  3769.989990  3662.709961  3700.649902   \n",
       "2021-01-05  2021-01-05  3698.020020  3737.830078  3695.070068  3726.860107   \n",
       "2021-01-06  2021-01-06  3712.199951  3783.040039  3705.340088  3748.139893   \n",
       "2021-01-07  2021-01-07  3764.709961  3811.550049  3764.709961  3803.790039   \n",
       "2021-01-08  2021-01-08  3815.050049  3826.689941  3783.600098  3824.679932   \n",
       "\n",
       "              Adj Close      Volume  \n",
       "Date                                 \n",
       "2020-01-10  3265.350098           0  \n",
       "2020-01-13  3288.129883  3456380000  \n",
       "2020-01-14  3283.149902           0  \n",
       "2020-01-15  3289.290039  3716840000  \n",
       "2020-01-16  3316.810059           0  \n",
       "...                 ...         ...  \n",
       "2021-01-04  3700.649902  5006680000  \n",
       "2021-01-05  3726.860107           0  \n",
       "2021-01-06  3748.139893  6049970000  \n",
       "2021-01-07  3803.790039           0  \n",
       "2021-01-08  3824.679932  4764180000  \n",
       "\n",
       "[148 rows x 7 columns]"
      ]
     },
     "execution_count": 15,
     "metadata": {},
     "output_type": "execute_result"
    }
   ],
   "source": [
    "high_close=data.Close>data.Close.mean()\n",
    "data.loc[high_close]"
   ]
  },
  {
   "cell_type": "markdown",
   "metadata": {},
   "source": [
    "Another example would be to pick a date with a specific price. So we want to know data from the day where the closing price was 3700.649902. "
   ]
  },
  {
   "cell_type": "code",
   "execution_count": 16,
   "metadata": {},
   "outputs": [
    {
     "data": {
      "text/html": [
       "<div>\n",
       "<style scoped>\n",
       "    .dataframe tbody tr th:only-of-type {\n",
       "        vertical-align: middle;\n",
       "    }\n",
       "\n",
       "    .dataframe tbody tr th {\n",
       "        vertical-align: top;\n",
       "    }\n",
       "\n",
       "    .dataframe thead th {\n",
       "        text-align: right;\n",
       "    }\n",
       "</style>\n",
       "<table border=\"1\" class=\"dataframe\">\n",
       "  <thead>\n",
       "    <tr style=\"text-align: right;\">\n",
       "      <th></th>\n",
       "      <th>Date</th>\n",
       "      <th>Open</th>\n",
       "      <th>High</th>\n",
       "      <th>Low</th>\n",
       "      <th>Close</th>\n",
       "      <th>Adj Close</th>\n",
       "      <th>Volume</th>\n",
       "    </tr>\n",
       "    <tr>\n",
       "      <th>Date</th>\n",
       "      <th></th>\n",
       "      <th></th>\n",
       "      <th></th>\n",
       "      <th></th>\n",
       "      <th></th>\n",
       "      <th></th>\n",
       "      <th></th>\n",
       "    </tr>\n",
       "  </thead>\n",
       "  <tbody>\n",
       "    <tr>\n",
       "      <th>2021-01-04</th>\n",
       "      <td>2021-01-04</td>\n",
       "      <td>3764.610107</td>\n",
       "      <td>3769.98999</td>\n",
       "      <td>3662.709961</td>\n",
       "      <td>3700.649902</td>\n",
       "      <td>3700.649902</td>\n",
       "      <td>5006680000</td>\n",
       "    </tr>\n",
       "  </tbody>\n",
       "</table>\n",
       "</div>"
      ],
      "text/plain": [
       "                  Date         Open        High          Low        Close  \\\n",
       "Date                                                                        \n",
       "2021-01-04  2021-01-04  3764.610107  3769.98999  3662.709961  3700.649902   \n",
       "\n",
       "              Adj Close      Volume  \n",
       "Date                                 \n",
       "2021-01-04  3700.649902  5006680000  "
      ]
     },
     "execution_count": 16,
     "metadata": {},
     "output_type": "execute_result"
    }
   ],
   "source": [
    "condition = data.Close == 3700.649902\n",
    "data.loc[condition]"
   ]
  },
  {
   "cell_type": "code",
   "execution_count": null,
   "metadata": {},
   "outputs": [],
   "source": []
  },
  {
   "cell_type": "code",
   "execution_count": null,
   "metadata": {},
   "outputs": [],
   "source": []
  },
  {
   "cell_type": "code",
   "execution_count": null,
   "metadata": {},
   "outputs": [],
   "source": []
  },
  {
   "cell_type": "code",
   "execution_count": null,
   "metadata": {},
   "outputs": [],
   "source": []
  },
  {
   "cell_type": "code",
   "execution_count": null,
   "metadata": {},
   "outputs": [],
   "source": []
  }
 ],
 "metadata": {
  "kernelspec": {
   "display_name": "Python 3",
   "language": "python",
   "name": "python3"
  },
  "language_info": {
   "codemirror_mode": {
    "name": "ipython",
    "version": 3
   },
   "file_extension": ".py",
   "mimetype": "text/x-python",
   "name": "python",
   "nbconvert_exporter": "python",
   "pygments_lexer": "ipython3",
   "version": "3.7.4"
  }
 },
 "nbformat": 4,
 "nbformat_minor": 2
}
